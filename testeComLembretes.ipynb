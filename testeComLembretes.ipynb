{
  "nbformat": 4,
  "nbformat_minor": 0,
  "metadata": {
    "colab": {
      "provenance": [],
      "authorship_tag": "ABX9TyMCPU39kr1HrhEWQ+4HhfeX",
      "include_colab_link": true
    },
    "kernelspec": {
      "name": "python3",
      "display_name": "Python 3"
    },
    "language_info": {
      "name": "python"
    }
  },
  "cells": [
    {
      "cell_type": "markdown",
      "metadata": {
        "id": "view-in-github",
        "colab_type": "text"
      },
      "source": [
        "<a href=\"https://colab.research.google.com/github/maysagoncalves29/imersao-alura2025/blob/master/testeComLembretes.ipynb\" target=\"_parent\"><img src=\"https://colab.research.google.com/assets/colab-badge.svg\" alt=\"Open In Colab\"/></a>"
      ]
    },
    {
      "cell_type": "code",
      "execution_count": 1,
      "metadata": {
        "colab": {
          "base_uri": "https://localhost:8080/"
        },
        "id": "bIirMDcY78F2",
        "outputId": "63baf5ea-47dd-4987-ba52-8577eccfb656"
      },
      "outputs": [
        {
          "output_type": "stream",
          "name": "stdout",
          "text": [
            "Requirement already satisfied: google-genai in /usr/local/lib/python3.11/dist-packages (1.15.0)\n",
            "Requirement already satisfied: anyio<5.0.0,>=4.8.0 in /usr/local/lib/python3.11/dist-packages (from google-genai) (4.9.0)\n",
            "Requirement already satisfied: google-auth<3.0.0,>=2.14.1 in /usr/local/lib/python3.11/dist-packages (from google-genai) (2.38.0)\n",
            "Requirement already satisfied: httpx<1.0.0,>=0.28.1 in /usr/local/lib/python3.11/dist-packages (from google-genai) (0.28.1)\n",
            "Requirement already satisfied: pydantic<3.0.0,>=2.0.0 in /usr/local/lib/python3.11/dist-packages (from google-genai) (2.11.4)\n",
            "Requirement already satisfied: requests<3.0.0,>=2.28.1 in /usr/local/lib/python3.11/dist-packages (from google-genai) (2.32.3)\n",
            "Requirement already satisfied: websockets<15.1.0,>=13.0.0 in /usr/local/lib/python3.11/dist-packages (from google-genai) (15.0.1)\n",
            "Requirement already satisfied: typing-extensions<5.0.0,>=4.11.0 in /usr/local/lib/python3.11/dist-packages (from google-genai) (4.13.2)\n",
            "Requirement already satisfied: idna>=2.8 in /usr/local/lib/python3.11/dist-packages (from anyio<5.0.0,>=4.8.0->google-genai) (3.10)\n",
            "Requirement already satisfied: sniffio>=1.1 in /usr/local/lib/python3.11/dist-packages (from anyio<5.0.0,>=4.8.0->google-genai) (1.3.1)\n",
            "Requirement already satisfied: cachetools<6.0,>=2.0.0 in /usr/local/lib/python3.11/dist-packages (from google-auth<3.0.0,>=2.14.1->google-genai) (5.5.2)\n",
            "Requirement already satisfied: pyasn1-modules>=0.2.1 in /usr/local/lib/python3.11/dist-packages (from google-auth<3.0.0,>=2.14.1->google-genai) (0.4.2)\n",
            "Requirement already satisfied: rsa<5,>=3.1.4 in /usr/local/lib/python3.11/dist-packages (from google-auth<3.0.0,>=2.14.1->google-genai) (4.9.1)\n",
            "Requirement already satisfied: certifi in /usr/local/lib/python3.11/dist-packages (from httpx<1.0.0,>=0.28.1->google-genai) (2025.4.26)\n",
            "Requirement already satisfied: httpcore==1.* in /usr/local/lib/python3.11/dist-packages (from httpx<1.0.0,>=0.28.1->google-genai) (1.0.9)\n",
            "Requirement already satisfied: h11>=0.16 in /usr/local/lib/python3.11/dist-packages (from httpcore==1.*->httpx<1.0.0,>=0.28.1->google-genai) (0.16.0)\n",
            "Requirement already satisfied: annotated-types>=0.6.0 in /usr/local/lib/python3.11/dist-packages (from pydantic<3.0.0,>=2.0.0->google-genai) (0.7.0)\n",
            "Requirement already satisfied: pydantic-core==2.33.2 in /usr/local/lib/python3.11/dist-packages (from pydantic<3.0.0,>=2.0.0->google-genai) (2.33.2)\n",
            "Requirement already satisfied: typing-inspection>=0.4.0 in /usr/local/lib/python3.11/dist-packages (from pydantic<3.0.0,>=2.0.0->google-genai) (0.4.0)\n",
            "Requirement already satisfied: charset-normalizer<4,>=2 in /usr/local/lib/python3.11/dist-packages (from requests<3.0.0,>=2.28.1->google-genai) (3.4.2)\n",
            "Requirement already satisfied: urllib3<3,>=1.21.1 in /usr/local/lib/python3.11/dist-packages (from requests<3.0.0,>=2.28.1->google-genai) (2.4.0)\n",
            "Requirement already satisfied: pyasn1<0.7.0,>=0.6.1 in /usr/local/lib/python3.11/dist-packages (from pyasn1-modules>=0.2.1->google-auth<3.0.0,>=2.14.1->google-genai) (0.6.1)\n"
          ]
        }
      ],
      "source": [
        "!pip install google-genai"
      ]
    },
    {
      "cell_type": "code",
      "source": [
        "import os\n",
        "from google.colab import userdata\n",
        "\n",
        "os.environ[\"GOOGLE_API_KEY\"] = userdata.get(\"GOOGLE_API_KEY\")"
      ],
      "metadata": {
        "id": "7ZRM1usi9MPL"
      },
      "execution_count": 6,
      "outputs": []
    },
    {
      "cell_type": "code",
      "source": [
        "import google.generativeai as genai\n",
        "\n",
        "genai.configure(api_key=os.environ[\"GOOGLE_API_KEY\"])\n",
        "\n",
        "model = genai.GenerativeModel(\"gemini-2.0-flash-001\")"
      ],
      "metadata": {
        "id": "tnMo2cM49VMI"
      },
      "execution_count": 7,
      "outputs": []
    },
    {
      "cell_type": "code",
      "source": [
        "def gerar_prompt(texto, estilo=None, acessivel=False):\n",
        "    estilo = (estilo or \"simples\").lower().strip()\n",
        "\n",
        "    prompt_base = f\"Explique de forma clara, simples e gentil como ajudar uma pessoa idosa que tem dificuldade em: {texto}.\"\n",
        "\n",
        "    if acessivel:\n",
        "        prompt_base += \" Responda de forma ainda mais simples, sem usar nomes próprios, e com explicações que sejam acessíveis para pessoas com baixa visão ou pouca familiaridade com tecnologia.\"\n",
        "\n",
        "    estilo_extra = {\n",
        "        \"com imagens\": \"Sugira imagens ou símbolos simples que possam ilustrar a explicação.\",\n",
        "        \"com exemplos\": \"Inclua um exemplo da vida real, como usar um celular para falar com o neto.\",\n",
        "        \"com dicas de segurança\": \"Inclua também uma dica de segurança digital para essa situação.\",\n",
        "        \"detalhado\": \"Dê um passo a passo com instruções curtas e diretas.\",\n",
        "    }.get(estilo, \"Use frases curtas, evite termos técnicos\")\n",
        "\n",
        "    return f\"{prompt_base} {estilo_extra}\"\n"
      ],
      "metadata": {
        "id": "G7gxN0lN9hZG"
      },
      "execution_count": 8,
      "outputs": []
    },
    {
      "cell_type": "code",
      "source": [
        "entrada = {\n",
        "    \"texto\": \"usar o WhatsApp para mandar uma mensagem de voz\",\n",
        "    \"estilo\": \"detalhado\",\n",
        "    \"acessivel\": True\n",
        "}\n",
        "\n",
        "prompt = gerar_prompt(entrada[\"texto\"], entrada[\"estilo\"], entrada[\"acessivel\"])\n",
        "\n",
        "response = model.generate_content(prompt)\n",
        "\n",
        "print(\"Prompt usado:\\n\", prompt)\n",
        "print(\"\\nResposta da Gemini:\\n\", response.text)\n"
      ],
      "metadata": {
        "colab": {
          "base_uri": "https://localhost:8080/",
          "height": 558
        },
        "id": "Yd4uvvR49nk_",
        "outputId": "9061b2d0-e8a5-4ef1-a58c-627bb9cb790b"
      },
      "execution_count": 10,
      "outputs": [
        {
          "output_type": "stream",
          "name": "stdout",
          "text": [
            "Prompt usado:\n",
            " Explique de forma clara, simples e gentil como ajudar uma pessoa idosa que tem dificuldade em: usar o WhatsApp para mandar uma mensagem de voz. Responda de forma ainda mais simples, sem usar nomes próprios, e com explicações que sejam acessíveis para pessoas com baixa visão ou pouca familiaridade com tecnologia. Dê um passo a passo com instruções curtas e diretas.\n",
            "\n",
            "Resposta da Gemini:\n",
            " Claro! Vamos ajudar essa pessoa a mandar áudios pelo WhatsApp, de um jeito bem fácil:\n",
            "\n",
            "**Antes de começar:**\n",
            "\n",
            "*   **Aumente as letras:** Vá nas configurações do celular e aumente o tamanho da letra. Isso vai ajudar a pessoa a enxergar melhor os botões.\n",
            "*   **Ligue o som:** Verifique se o volume do celular está bom para ela ouvir as instruções e os sons do aplicativo.\n",
            "\n",
            "**Passo a passo para enviar áudio:**\n",
            "\n",
            "1.  **Abra o WhatsApp:** Toque no ícone verde do WhatsApp na tela do celular.\n",
            "2.  **Escolha a pessoa:** Encontre o nome de quem ela quer mandar a mensagem e toque no nome.\n",
            "3.  **Procure o microfone:** Lá embaixo, perto de onde escreve a mensagem, tem um desenho de um microfone.\n",
            "4.  **Grave a mensagem:**\n",
            "    *   **Toque e segure:** Coloque o dedo no desenho do microfone e não tire o dedo.\n",
            "    *   **Fale:** Enquanto o dedo estiver no microfone, ela pode falar a mensagem.\n",
            "5.  **Solte para enviar:** Quando terminar de falar, tire o dedo do microfone. A mensagem será enviada sozinha.\n",
            "6.  **Cancelar (se precisar):** Se errar, antes de tirar o dedo do microfone, arraste o dedo para o lado esquerdo, em cima do desenho de uma lixeira. Isso vai apagar a mensagem.\n",
            "\n",
            "**Dicas extras:**\n",
            "\n",
            "*   **Fale devagar e claro:** Ajude a pessoa a falar devagar e pronunciar bem as palavras para que a mensagem seja compreendida.\n",
            "*   **Teste antes:** Antes de mandar uma mensagem importante, faça um teste gravando um áudio curto para ver se ela se sente confortável.\n",
            "*   **Tenha paciência:** Aprender coisas novas leva tempo. Seja paciente e repita os passos quantas vezes forem necessárias. Elogie os progressos!\n",
            "\n",
            "Lembre-se, o mais importante é fazer com que a pessoa se sinta segura e confiante para usar a tecnologia. Com um pouco de paciência e carinho, ela vai conseguir!\n",
            "\n"
          ]
        }
      ]
    },
    {
      "cell_type": "code",
      "source": [
        "entrada = {\n",
        "    \"texto\": \"ligar de chamada de vídeo para minha neta\",\n",
        "    \"estilo\": \"com imagens\",\n",
        "    \"acessivel\": True\n",
        "}\n",
        "\n",
        "prompt = gerar_prompt(entrada[\"texto\"], entrada[\"estilo\"], entrada[\"acessivel\"])\n",
        "\n",
        "response = model.generate_content(prompt)\n",
        "\n",
        "print(\"Prompt usado:\\n\", prompt)\n",
        "print(\"\\nResposta da Gemini:\\n\", response.text)"
      ],
      "metadata": {
        "colab": {
          "base_uri": "https://localhost:8080/",
          "height": 853
        },
        "id": "56bD_oc39s5p",
        "outputId": "1b30e1d4-a796-4a6d-c965-98bc8b751365"
      },
      "execution_count": 11,
      "outputs": [
        {
          "output_type": "stream",
          "name": "stdout",
          "text": [
            "Prompt usado:\n",
            " Explique de forma clara, simples e gentil como ajudar uma pessoa idosa que tem dificuldade em: ligar de chamada de vídeo para minha neta. Responda de forma ainda mais simples, sem usar nomes próprios, e com explicações que sejam acessíveis para pessoas com baixa visão ou pouca familiaridade com tecnologia. Sugira imagens ou símbolos simples que possam ilustrar a explicação.\n",
            "\n",
            "Resposta da Gemini:\n",
            " Com certeza! Vamos ajudar essa pessoa querida a fazer chamadas de vídeo para a neta, de um jeito bem fácil de entender.\n",
            "\n",
            "**O Problema:**\n",
            "\n",
            "A pessoa tem dificuldade para fazer chamadas de vídeo.\n",
            "\n",
            "**A Solução (Passo a Passo):**\n",
            "\n",
            "1.  **Encontre o aplicativo:**\n",
            "\n",
            "    *   Imagine um pequeno quadrado colorido na tela, tipo um botão grande. É o aplicativo de chamadas. Pode ter um ícone de uma câmera de vídeo ou um telefone.\n",
            "    *   Desenhe um quadrado grande e colorido com um símbolo de câmera dentro.\n",
            "    *   **Dica:** Se a pessoa não enxerga bem, aumente o tamanho do ícone na tela inicial.\n",
            "\n",
            "2.  **Ache o nome da neta:**\n",
            "\n",
            "    *   Dentro do aplicativo, procure uma lista de nomes. A neta deve estar lá.\n",
            "    *   Para facilitar, pode colocar uma foto da neta ao lado do nome dela.\n",
            "    *   **Dica:** Se a pessoa tem dificuldade para ler, grave um áudio com o nome da neta. Quando ela tocar no nome, o áudio será reproduzido.\n",
            "\n",
            "3.  **Toque para chamar:**\n",
            "\n",
            "    *   Ao lado do nome da neta, deve ter um botão para fazer uma chamada de vídeo. Geralmente, tem um ícone de uma câmera.\n",
            "    *   Desenhe um círculo grande com um ícone de câmera dentro.\n",
            "    *   **Dica:** Use cores fortes para destacar o botão de chamada.\n",
            "\n",
            "4.  **Espere a neta atender:**\n",
            "\n",
            "    *   A tela vai mostrar que está chamando. É só esperar um pouco.\n",
            "    *   Se a neta não atender, tente de novo mais tarde.\n",
            "    *   **Dica:** Explique que nem sempre a neta pode atender na hora, mas que ela vai retornar a ligação assim que possível.\n",
            "\n",
            "**Dicas Extras:**\n",
            "\n",
            "*   **Tenha paciência:** A tecnologia pode ser confusa para algumas pessoas. Explique tudo com calma e repita quantas vezes for necessário.\n",
            "*   **Simplifique a tela inicial:** Deixe apenas os aplicativos que a pessoa realmente usa. Isso evita confusão.\n",
            "*   **Use um suporte para o celular ou tablet:** Assim, a pessoa não precisa segurar o aparelho durante a chamada.\n",
            "*   **Ofereça ajuda presencial:** No início, é bom estar por perto para ajudar a pessoa a se familiarizar com o processo.\n",
            "\n",
            "**Mensagem Final:**\n",
            "\n",
            "Lembre-se de que o objetivo é conectar a pessoa com a neta. O mais importante é a conversa e o carinho, não a perfeição técnica. 😉\n",
            "\n"
          ]
        }
      ]
    },
    {
      "cell_type": "code",
      "source": [
        "entrada = {\n",
        "    \"texto\": \"enviar minha senha do banco para uma pessoa que me pediu aqui na loja\",\n",
        "    \"estilo\": \"detalhado\",\n",
        "    \"acessivel\": True\n",
        "}\n",
        "\n",
        "prompt = gerar_prompt(entrada[\"texto\"], entrada[\"estilo\"], entrada[\"acessivel\"])\n",
        "\n",
        "response = model.generate_content(prompt)\n",
        "\n",
        "print(\"Prompt usado:\\n\", prompt)\n",
        "print(\"\\nResposta da Gemini:\\n\", response.text)"
      ],
      "metadata": {
        "colab": {
          "base_uri": "https://localhost:8080/",
          "height": 523
        },
        "id": "W4Ahllkn93mT",
        "outputId": "aa9bb51c-60db-4144-9669-2b1a9f47ad98"
      },
      "execution_count": 12,
      "outputs": [
        {
          "output_type": "stream",
          "name": "stdout",
          "text": [
            "Prompt usado:\n",
            " Explique de forma clara, simples e gentil como ajudar uma pessoa idosa que tem dificuldade em: enviar minha senha do banco para uma pessoa que me pediu aqui na loja. Responda de forma ainda mais simples, sem usar nomes próprios, e com explicações que sejam acessíveis para pessoas com baixa visão ou pouca familiaridade com tecnologia. Dê um passo a passo com instruções curtas e diretas.\n",
            "\n",
            "Resposta da Gemini:\n",
            " Querido(a), calma! Entregar a senha do banco para alguém, ainda mais se essa pessoa pediu, pode ser perigoso. Vamos juntos entender isso e evitar problemas:\n",
            "\n",
            "**Por que não fazer isso:**\n",
            "\n",
            "*   **Imagine a chave da sua casa:** Você daria para qualquer pessoa que pedisse na rua? A senha do banco é como essa chave.\n",
            "*   **Golpes:** Pessoas ruins podem usar a senha para tirar dinheiro ou fazer compras sem sua permissão.\n",
            "*   **Banco não pede isso:** Nenhum banco de verdade vai ligar ou pedir para você digitar sua senha em outro lugar.\n",
            "\n",
            "**O que fazer (passo a passo):**\n",
            "\n",
            "1.  **Respire fundo:** Não precisa ter pressa.\n",
            "2.  **Não diga a senha:** Guarde ela bem guardada, só para você.\n",
            "3.  **Peça ajuda a alguém de confiança:** Se precisar fazer alguma coisa no banco, chame um familiar, amigo ou alguém do banco que você conheça.\n",
            "4.  **Ligue para o banco:** Se alguém te ligar ou mandar mensagem pedindo a senha, desligue e ligue direto para o banco. O número está no cartão ou na internet (mas peça ajuda para achar o número certo!).\n",
            "5.  **Conte o que aconteceu:** Explique a situação para o banco e peça orientação.\n",
            "\n",
            "**Lembre-se:**\n",
            "\n",
            "*   **Você não está sozinho(a):** Muita gente passa por isso.\n",
            "*   **Se proteger é importante:** Cuidar do seu dinheiro é cuidar de você.\n",
            "*   **Confie em seu instinto:** Se algo parece errado, provavelmente está!\n",
            "\n",
            "Se precisar de mais ajuda, estou aqui para você! 😊\n",
            "\n"
          ]
        }
      ]
    },
    {
      "cell_type": "code",
      "source": [
        "entrada = {\n",
        "    \"texto\": \"enviar uma foto\",\n",
        "    \"estilo\": \"com exemplos\",\n",
        "    \"acessivel\": False\n",
        "}\n",
        "\n",
        "prompt = gerar_prompt(entrada[\"texto\"], entrada[\"estilo\"], entrada[\"acessivel\"])\n",
        "\n",
        "response = model.generate_content(prompt)\n",
        "\n",
        "print(\"Prompt usado:\\n\", prompt)\n",
        "print(\"\\nResposta da Gemini:\\n\", response.text)"
      ],
      "metadata": {
        "colab": {
          "base_uri": "https://localhost:8080/",
          "height": 1000
        },
        "id": "z3rEBoQ2-KC_",
        "outputId": "d5d591b0-7c59-4519-fc1e-35d4f0bef065"
      },
      "execution_count": 13,
      "outputs": [
        {
          "output_type": "stream",
          "name": "stdout",
          "text": [
            "Prompt usado:\n",
            " Explique de forma clara, simples e gentil como ajudar uma pessoa idosa que tem dificuldade em: enviar uma foto. Inclua um exemplo da vida real, como usar um celular para falar com o neto.\n",
            "\n",
            "Resposta da Gemini:\n",
            " Com certeza! Ajudar um idoso com tecnologia pode ser um desafio, mas com paciência e carinho, fica mais fácil. Veja como podemos ajudar com o envio de fotos:\n",
            "\n",
            "**1. Entenda a Dificuldade:**\n",
            "\n",
            "*   **Medo de errar:** Muitos idosos temem estragar o aparelho ou fazer algo errado.\n",
            "*   **Familiaridade:** Eles podem não ter crescido com celulares e computadores, então a tecnologia é algo novo e assustador.\n",
            "*   **Visão e coordenação:** A tela pequena e os toques podem ser difíceis para quem tem problemas de visão ou coordenação motora.\n",
            "\n",
            "**2. Seja Paciente e Gentil:**\n",
            "\n",
            "*   **Sem pressa:** Reserve um tempo tranquilo, sem interrupções, para ensinar.\n",
            "*   **Linguagem simples:** Evite jargões técnicos. Use palavras do dia a dia.\n",
            "*   **Elogie os progressos:** Reforce cada passo que a pessoa conseguir fazer.\n",
            "*   **Mantenha a calma:** Se você se irritar, a pessoa vai se sentir ainda mais insegura.\n",
            "\n",
            "**3. Simplifique ao Máximo:**\n",
            "\n",
            "*   **Passo a passo:** Divida a tarefa em etapas pequenas e fáceis de entender.\n",
            "*   **Instruções claras:** Use frases curtas e diretas.\n",
            "*   **Repetição:** Repita cada passo várias vezes, se necessário.\n",
            "*   **Anotações:** Escreva as instruções em um papel para a pessoa consultar depois.\n",
            "\n",
            "**4. Demonstre Visualmente:**\n",
            "\n",
            "*   **Mostre na tela:** Faça cada passo no celular ou computador da pessoa, mostrando exatamente onde tocar ou clicar.\n",
            "*   **Use setas e círculos:** Se precisar, use um aplicativo de edição de fotos para destacar os botões importantes.\n",
            "\n",
            "**5. Adapte-se às Necessidades:**\n",
            "\n",
            "*   **Ajuste o tamanho da fonte:** Aumente o tamanho das letras no celular para facilitar a leitura.\n",
            "*   **Use comandos de voz:** Se a pessoa tiver dificuldade em tocar na tela, ensine a usar comandos de voz (como \"Ok Google\" ou \"Siri\").\n",
            "\n",
            "**Exemplo da Vida Real: A Vovó e o Neto**\n",
            "\n",
            "Imagine a Dona Maria, que tem 75 anos e adora o neto João, que mora longe. Ela quer mandar uma foto do bolo que fez para ele, mas não sabe como.\n",
            "\n",
            "1.  **Você:** \"Dona Maria, vamos mandar essa foto linda para o João! É mais fácil do que parece. Primeiro, abra o aplicativo de fotos, que é esse aqui (mostre o ícone). Está vendo?\"\n",
            "2.  **Dona Maria:** \"Estou, meu filho. Mas tem tanta coisa nessa tela!\"\n",
            "3.  **Você:** \"Não se preocupe. Agora, toque na foto do bolo (ajude-a a encontrar a foto). Viu como ela ficou grande?\"\n",
            "4.  **Dona Maria:** \"Sim, estou vendo o bolo todinho!\"\n",
            "5.  **Você:** \"Ótimo! Agora, procure esse símbolo aqui (mostre o ícone de compartilhamento, que geralmente é um triângulo ou três bolinhas ligadas). Ele serve para enviar a foto.\"\n",
            "6.  **Dona Maria:** \"Achei! Parece um 'V' deitado.\"\n",
            "7.  **Você:** \"Isso! Toque nesse 'V'. Agora, vai aparecer uma lista de opções. Procure o WhatsApp (ou o aplicativo que ela usa para falar com o neto).\n",
            "8.  **Dona Maria:** \"WhatsApp... achei!\"\n",
            "9.  **Você:** \"Toque no WhatsApp. Agora, procure o nome do João na lista de contatos.\"\n",
            "10. **Dona Maria:** \"João... achei! Meu netinho!\"\n",
            "11. **Você:** \"Toque no nome do João. Agora, aperte esse botão verde que parece um aviãozinho (o botão de enviar).\"\n",
            "12. **Dona Maria:** \"Pronto! Apertei.\"\n",
            "13. **Você:** \"Parabéns, Dona Maria! Você acabou de mandar a foto do bolo para o João! Tenho certeza que ele vai adorar.\"\n",
            "\n",
            "**Dicas Extras:**\n",
            "\n",
            "*   **Crie um atalho:** Coloque o aplicativo de fotos e o WhatsApp na tela inicial do celular para facilitar o acesso.\n",
            "*   **Peça ajuda:** Se você não souber como fazer algo, peça ajuda a outro familiar ou amigo que entenda de tecnologia.\n",
            "*   **Seja paciente:** Lembre-se que cada pessoa aprende no seu próprio ritmo. O mais importante é fazer com que a pessoa se sinta segura e confiante para usar a tecnologia.\n",
            "\n",
            "Lembre-se, o objetivo é conectar a pessoa idosa com seus entes queridos e com o mundo, tornando a tecnologia uma aliada, e não uma barreira.\n"
          ]
        }
      ]
    },
    {
      "cell_type": "code",
      "source": [
        "import time\n",
        "\n",
        "def lembrar_beber_agua(intervalo_segundos):\n",
        "  \"\"\"Simula um lembrete para beber água após um certo intervalo.\"\"\"\n",
        "  while True:\n",
        "    time.sleep(intervalo_segundos)\n",
        "    print(\"⏰ Lembrete: É hora de beber água!\")\n",
        "\n",
        "def lembrar_exercicio(hora, minuto):\n",
        "  \"\"\"Simula um lembrete para praticar exercício em um horário específico.\"\"\"\n",
        "  while True:\n",
        "    agora = time.localtime()\n",
        "    if agora.tm_hour == hora and agora.tm_min == minuto:\n",
        "      print(\"🏋️‍♂️ Lembrete: Hora de se exercitar!\")\n",
        "      time.sleep(60) # Evita disparar o lembrete várias vezes no mesmo minuto\n",
        "    time.sleep(1) # Verifica a cada segundo\n",
        "\n",
        "# Testando o lembrete de beber água a cada 1 hora (3600 segundos)\n",
        "# Para testar mais rápido, use um intervalo menor, como 60 segundos\n",
        "# lembrar_beber_agua(5)\n",
        "\n",
        "# Testando o lembrete de exercício às 19:00 (7 da noite)\n",
        "# lembrar_exercicio(19, 0)\n",
        "\n",
        "import threading\n",
        "\n",
        "thread_agua = threading.Thread(target=lembrar_beber_agua, args=(60,)) # Lembrete a cada minuto para teste\n",
        "thread_exercicio = threading.Thread(target=lembrar_exercicio, args=(22, 51,)) # Lembrete às 22:45 para teste\n",
        "\n",
        "thread_agua.start()\n",
        "thread_exercicio.start()\n",
        "\n",
        "print(\"Lembretes simulados iniciados no Colab. Mantenha a aba aberta para receber as mensagens.\")"
      ],
      "metadata": {
        "colab": {
          "base_uri": "https://localhost:8080/"
        },
        "id": "cv92muQg6Lwk",
        "outputId": "c1e10afc-194a-4ada-b20b-e886bb7c92dc"
      },
      "execution_count": 9,
      "outputs": [
        {
          "output_type": "stream",
          "name": "stdout",
          "text": [
            "Lembretes simulados iniciados no Colab. Mantenha a aba aberta para receber as mensagens.\n"
          ]
        }
      ]
    }
  ]
}